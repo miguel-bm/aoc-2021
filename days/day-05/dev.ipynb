{
 "cells": [
  {
   "cell_type": "code",
   "execution_count": 5,
   "metadata": {},
   "outputs": [],
   "source": [
    "from aocd.models import Puzzle\n",
    "import numpy as np\n",
    "from collections import Counter\n",
    "import parse\n",
    "\n",
    "puzzle = Puzzle(year=2021, day=5)\n",
    "data = puzzle.input_data\n",
    "\n",
    "example = \"\"\"0,9 -> 5,9\n",
    "8,0 -> 0,8\n",
    "9,4 -> 3,4\n",
    "2,2 -> 2,1\n",
    "7,0 -> 7,4\n",
    "6,4 -> 2,0\n",
    "0,9 -> 2,9\n",
    "3,4 -> 1,4\n",
    "0,0 -> 8,8\n",
    "5,5 -> 8,2\"\"\""
   ]
  },
  {
   "cell_type": "code",
   "execution_count": 6,
   "metadata": {},
   "outputs": [],
   "source": [
    "def parse_input(data):\n",
    "    vent_format = parse.compile(\"{} -> {}\") \n",
    "    coord_format = parse.compile(\"{:d},{:d}\")\n",
    "    return np.array(\n",
    "        [[list(coord_format.parse(coord)) for coord in vent_format.parse(vent)] \n",
    "        for vent in data.splitlines()], dtype=int\n",
    "    )"
   ]
  },
  {
   "cell_type": "code",
   "execution_count": 7,
   "metadata": {},
   "outputs": [],
   "source": [
    "vents = parse_input(example)"
   ]
  },
  {
   "cell_type": "code",
   "execution_count": 58,
   "metadata": {},
   "outputs": [],
   "source": [
    "def parse_input(data):\n",
    "    vent_format = parse.compile(\"{} -> {}\") \n",
    "    coord_format = parse.compile(\"{:d},{:d}\")\n",
    "    return np.array(\n",
    "        [[list(coord_format.parse(coord)) for coord in vent_format.parse(vent)] \n",
    "        for vent in data.splitlines()], dtype=int\n",
    "   )\n",
    "\n",
    "def filter_straight_vents(vents):\n",
    "    horizontal = vents[:, 0, 0] == vents[:, 1, 0]\n",
    "    vertical = vents[:, 0, 1] == vents[:, 1, 1]\n",
    "    return vents[horizontal | vertical]\n",
    "    \n",
    "def vent_length(vent):\n",
    "    return max(abs(vent[0, 0] - vent[1, 0]), abs(vent[0, 1] - vent[1, 1])) + 1\n",
    "\n",
    "def vent_points(vent):\n",
    "    return np.round(np.linspace(vent[0], vent[1], vent_length(vent))).astype(int)\n",
    "\n",
    "def count_overlapping_points(vents):\n",
    "    all_points = np.concatenate([vent_points(vent) for vent in vents])\n",
    "    points, count = np.unique(all_points, return_counts=True, axis=0)\n",
    "    return sum(count>=2)"
   ]
  },
  {
   "cell_type": "code",
   "execution_count": 59,
   "metadata": {},
   "outputs": [],
   "source": [
    "vents = parse_input(example)\n"
   ]
  },
  {
   "cell_type": "code",
   "execution_count": 60,
   "metadata": {},
   "outputs": [
    {
     "name": "stdout",
     "output_type": "stream",
     "text": [
      "6093\n",
      "18097\n"
     ]
    }
   ],
   "source": [
    "vents = parse_input(puzzle.input_data)\n",
    "\n",
    "# Part 1\n",
    "solution_a = count_overlapping_points(filter_straight_vents(vents))\n",
    "print(solution_a)\n",
    "# Part 2\n",
    "solution_b = count_overlapping_points(vents)\n",
    "print(solution_b)"
   ]
  },
  {
   "cell_type": "code",
   "execution_count": null,
   "metadata": {},
   "outputs": [],
   "source": []
  }
 ],
 "metadata": {
  "interpreter": {
   "hash": "dff300229a66d14808f681671adfaef0ab8c8a39abb01081ab67b0c5d3086a57"
  },
  "kernelspec": {
   "display_name": "Python 3.9.8 64-bit ('aoc-2021-ZBQgDlLz': pipenv)",
   "language": "python",
   "name": "python3"
  },
  "language_info": {
   "codemirror_mode": {
    "name": "ipython",
    "version": 3
   },
   "file_extension": ".py",
   "mimetype": "text/x-python",
   "name": "python",
   "nbconvert_exporter": "python",
   "pygments_lexer": "ipython3",
   "version": "3.9.8"
  },
  "orig_nbformat": 4
 },
 "nbformat": 4,
 "nbformat_minor": 2
}
