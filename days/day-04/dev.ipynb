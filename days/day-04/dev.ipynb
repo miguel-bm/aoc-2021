{
 "cells": [
  {
   "cell_type": "code",
   "execution_count": 35,
   "metadata": {},
   "outputs": [],
   "source": [
    "from pathlib import Path\n",
    "import numpy as np\n",
    "\n",
    "\n",
    "def read_input(filename):\n",
    "    with Path(filename).open() as f:\n",
    "        lines = f.readlines()\n",
    "        bingo_numbers = [int(num) for num in lines[0].split(',')]\n",
    "        board_lines = \"\".join(lines[2:])\n",
    "        boards_info = board_lines.split(\"\\n\\n\")\n",
    "        boards = np.array([np.array([[int(num) for num in board_line.split(\" \") if num] for board_line in board_info.strip(\"\\n\").split(\"\\n\")]) for board_info in boards_info if board_info])\n",
    "        return bingo_numbers, boards \n"
   ]
  },
  {
   "cell_type": "code",
   "execution_count": 36,
   "metadata": {},
   "outputs": [],
   "source": [
    "bingo_numbers, boards = read_input(\"days/day-04/input.txt\")"
   ]
  },
  {
   "cell_type": "code",
   "execution_count": 39,
   "metadata": {},
   "outputs": [],
   "source": [
    "bingo_record = np.zeros(boards.shape)"
   ]
  },
  {
   "cell_type": "code",
   "execution_count": 59,
   "metadata": {},
   "outputs": [
    {
     "name": "stdout",
     "output_type": "stream",
     "text": [
      "Bingo! Bingo! Bingo!\n",
      "22680\n"
     ]
    }
   ],
   "source": [
    "bingo_record = np.zeros(boards.shape)\n",
    "for number in bingo_numbers:\n",
    "    bingo_record += (boards == number).astype(int)\n",
    "    if np.any(bingo_record.sum(axis=1) == 5) or np.any(bingo_record.sum(axis=2) == 5):\n",
    "        print(\"Bingo! Bingo! Bingo!\")\n",
    "        winning_board_index = [np.any(record.sum(axis=0) == 5) or np.any(record.sum(axis=1) == 5) for record in bingo_record].index(True)\n",
    "        winning_board = boards[winning_board_index]\n",
    "        winning_board_record = bingo_record[winning_board_index]\n",
    "        unmarked_numbers = winning_board[winning_board_record == 0]\n",
    "        solution = np.sum(unmarked_numbers) * number\n",
    "        print(solution)\n",
    "        break"
   ]
  },
  {
   "cell_type": "code",
   "execution_count": 65,
   "metadata": {},
   "outputs": [
    {
     "name": "stdout",
     "output_type": "stream",
     "text": [
      "16168\n"
     ]
    }
   ],
   "source": [
    "bingo_record = np.zeros(boards.shape)\n",
    "for number in bingo_numbers:\n",
    "    bingo_record += (boards == number).astype(int)\n",
    "\n",
    "    losing_boards = [not(np.any(record.sum(axis=0) == 5) or np.any(record.sum(axis=1) == 5)) for record in bingo_record]\n",
    "    if sum(losing_boards) == 1:\n",
    "        losing_board_index = losing_boards.index(True)\n",
    "        losing_board = boards[losing_board_index]\n",
    "\n",
    "    if sum(losing_boards) == 0:\n",
    "        losing_board_record = bingo_record[losing_board_index]\n",
    "        unmarked_numbers = losing_board[losing_board_record == 0]\n",
    "        solution = np.sum(unmarked_numbers) * number\n",
    "        print(solution)\n",
    "        break"
   ]
  },
  {
   "cell_type": "code",
   "execution_count": 128,
   "metadata": {},
   "outputs": [],
   "source": [
    "from pathlib import Path\n",
    "import numpy as np\n",
    "\n",
    "def parse_board(board):\n",
    "    return [[int(num) for num in line.split()] for line in board.split(\"\\n\")]\n",
    "\n",
    "\n",
    "def read_input(filename):\n",
    "    with Path(filename).open() as f:\n",
    "        lines = f.readlines()\n",
    "        bingo_numbers = list(map(int, lines[0].split(\",\")))\n",
    "        boards = map(parse_board, \"\".join(lines[1:]).strip(\"\\n\").split(\"\\n\\n\"))\n",
    "        return bingo_numbers, np.array(list(boards))\n",
    "\n",
    "def find_bingo_winners(bingo_record):\n",
    "    wins_by_rows = np.any(np.all(bingo_record, axis=1), axis=1)\n",
    "    wins_by_cols = np.any(np.all(bingo_record, axis=2), axis=1)\n",
    "    return wins_by_rows | wins_by_cols\n",
    "\n",
    "def find_first_winner(bingo_numbers, bingo_boards):\n",
    "    bingo_record = np.zeros_like(bingo_boards, dtype=bool)\n",
    "    for number in bingo_numbers:\n",
    "        bingo_record += (bingo_boards == number)\n",
    "        if any(winners := find_bingo_winners(bingo_record)):\n",
    "            return number, bingo_boards[winners][0], bingo_record[winners][0]\n",
    "\n",
    "def find_last_winner(bingo_numbers, bingo_boards):\n",
    "    bingo_record = np.zeros_like(bingo_boards, dtype=bool)\n",
    "    for number in bingo_numbers:\n",
    "        bingo_record += (bingo_boards == number)\n",
    "        if all(winners := find_bingo_winners(bingo_record)):\n",
    "            return number, bingo_boards[last_round_losers][0], bingo_record[last_round_losers][0]\n",
    "        last_round_losers = ~winners\n",
    "\n",
    "def compute_solution(number, board, board_record):\n",
    "    return np.sum(board[board_record == 0]) * number"
   ]
  },
  {
   "cell_type": "code",
   "execution_count": 129,
   "metadata": {},
   "outputs": [
    {
     "name": "stdout",
     "output_type": "stream",
     "text": [
      "22680\n",
      "16168\n"
     ]
    }
   ],
   "source": [
    "bingo_numbers, bingo_boards = read_input(\"days/day-04/input.txt\")\n",
    "print(compute_solution(*find_first_winner(bingo_numbers, bingo_boards)))\n",
    "print(compute_solution(*find_last_winner(bingo_numbers, bingo_boards)))"
   ]
  },
  {
   "cell_type": "code",
   "execution_count": null,
   "metadata": {},
   "outputs": [],
   "source": []
  }
 ],
 "metadata": {
  "interpreter": {
   "hash": "dff300229a66d14808f681671adfaef0ab8c8a39abb01081ab67b0c5d3086a57"
  },
  "kernelspec": {
   "display_name": "Python 3.9.8 64-bit ('aoc-2021-ZBQgDlLz': pipenv)",
   "language": "python",
   "name": "python3"
  },
  "language_info": {
   "codemirror_mode": {
    "name": "ipython",
    "version": 3
   },
   "file_extension": ".py",
   "mimetype": "text/x-python",
   "name": "python",
   "nbconvert_exporter": "python",
   "pygments_lexer": "ipython3",
   "version": "3.9.8"
  },
  "orig_nbformat": 4
 },
 "nbformat": 4,
 "nbformat_minor": 2
}
