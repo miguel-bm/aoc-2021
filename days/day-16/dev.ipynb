{
 "cells": [
  {
   "cell_type": "markdown",
   "metadata": {},
   "source": [
    "# Advent of Code 2021 day 16"
   ]
  },
  {
   "cell_type": "code",
   "execution_count": 27,
   "metadata": {},
   "outputs": [],
   "source": [
    "from collections import *\n",
    "from itertools import *\n",
    "from functools import *\n",
    "from dataclasses import dataclass\n",
    "\n",
    "from aocd.models import Puzzle\n",
    "import numpy as np\n",
    "import parse\n",
    "from aocp import *\n",
    "\n",
    "example: str = \"\"\"\"\"\"\n",
    "example_sol_a: int = None\n",
    "example_sol_b: int = None\n",
    "\n",
    "\n",
    "puzzle = Puzzle(year=2021, day=16)\n",
    "raw_data = puzzle.input_data"
   ]
  },
  {
   "cell_type": "code",
   "execution_count": 2,
   "metadata": {},
   "outputs": [
    {
     "data": {
      "text/plain": [
       "'4057231006FF2D2E1AD8025275E4EB45A9ED518E5F1AB4363C60084953FB09E008725772E8ECAC312F0C18025400D34F732333DCC8FCEDF7CFE504802B4B00426E1A129B86846441840193007E3041483E4008541F8490D4C01A89B0DE17280472FE937C8E6ECD2F0D63B0379AC72FF8CBC9CC01F4CCBE49777098D4169DE4BF2869DE6DACC015F005C401989D0423F0002111723AC289DED3E64401004B084F074BBECE829803D3A0D3AD51BD001D586B2BEAFFE0F1CC80267F005E54D254C272950F00119264DA7E9A3E9FE6BB2C564F5376A49625534C01B0004222B41D8A80008446A8990880010A83518A12B01A48C0639A0178060059801C404F990128AE007801002803AB1801A0030A280184026AA8014C01C9B005CE0011AB00304800694BE2612E00A45C97CC3C7C4020A600433253F696A7E74B54DE46F395EC5E2009C9FF91689D6F3005AC0119AF4698E4E2713B2609C7E92F57D2CB1CE0600063925CFE736DE04625CC6A2B71050055793B4679F08CA725CDCA1F4792CCB566494D8F4C69808010494499E469C289BA7B9E2720152EC0130004320FC1D8420008647E8230726FDFED6E6A401564EBA6002FD3417350D7C28400C8C8600A5003EB22413BED673AB8EC95ED0CE5D480285C00372755E11CCFB164920070B40118DB1AE5901C0199DCD8D616CFA89009BF600880021304E0EC52100623A4648AB33EB51BCC017C0040E490A490A532F86016CA064E2B4939CEABC99F9009632FDE3AE00660200D4398CD120401F8C70DE2DB004A9296C662750663EC89C1006AF34B9A00BCFDBB4BBFCB5FBFF98980273B5BD37FCC4DF00354100762EC258C6000854158750A2072001F9338AC05A1E800535230DDE318597E61567D88C013A00C2A63D5843D80A958FBBBF5F46F2947F952D7003E5E1AC4A854400404A069802B25618E008667B7BAFEF24A9DD024F72DBAAFCB312002A9336C20CE84'"
      ]
     },
     "execution_count": 2,
     "metadata": {},
     "output_type": "execute_result"
    }
   ],
   "source": [
    "raw_data"
   ]
  },
  {
   "cell_type": "code",
   "execution_count": 140,
   "metadata": {},
   "outputs": [],
   "source": [
    "def parse_input(raw_data: str):\n",
    "    return \"\".join([bin(int(c, 16))[2:].zfill(4) for c in raw_data])"
   ]
  },
  {
   "cell_type": "code",
   "execution_count": 139,
   "metadata": {},
   "outputs": [],
   "source": [
    "example_data = parse_input(example)\n",
    "data = parse_input(raw_data)"
   ]
  },
  {
   "cell_type": "markdown",
   "metadata": {},
   "source": [
    "## Part 1"
   ]
  },
  {
   "cell_type": "code",
   "execution_count": 143,
   "metadata": {},
   "outputs": [],
   "source": [
    "Packet = namedtuple(\"Packet\", [\"version\", \"type\", \"length\", \"packets\", \"literal\"])\n",
    "\n",
    "def parse_packet(data: str, offset: int = 0):\n",
    "    string = data[offset:]\n",
    "    version = int(string[:3], 2)\n",
    "    packet_type = int(string[3:6], 2)\n",
    "    packets = []    \n",
    "    if packet_type == 4:\n",
    "        i = 6\n",
    "        literals = []\n",
    "        is_last = False\n",
    "        while not is_last:\n",
    "            group = string[i:i+5]\n",
    "            literals.append(group[1:])\n",
    "            is_last = True if group[0] == \"0\" else False\n",
    "            i += 5\n",
    "        literal = int(\"\".join(literals), 2)\n",
    "        length = len(literals)*5+6\n",
    "        return Packet(version, packet_type, length, packets, literal)\n",
    "    else:\n",
    "        total_length, num_packets, start = (0, int(string[7:18], 2), 18) if int(string[6:7], 2) else (int(string[7:22], 2), 0, 22)\n",
    "        parsed_len = 0    \n",
    "        while len(packets) < num_packets or parsed_len < total_length:\n",
    "            packet = parse_packet(string, start+parsed_len)\n",
    "            packets.append(packet)\n",
    "            parsed_len += packet.length\n",
    "        return Packet(version, packet_type, start+parsed_len, packets, 0)"
   ]
  },
  {
   "cell_type": "code",
   "execution_count": 144,
   "metadata": {},
   "outputs": [
    {
     "data": {
      "text/plain": [
       "Packet(version=1, type=6, length=49, packets=[Packet(version=6, type=4, length=11, packets=[], literal=10), Packet(version=2, type=4, length=16, packets=[], literal=20)], literal=0)"
      ]
     },
     "execution_count": 144,
     "metadata": {},
     "output_type": "execute_result"
    }
   ],
   "source": [
    "parse_packet(\"00111000000000000110111101000101001010010001001000000000\", 0)"
   ]
  },
  {
   "cell_type": "code",
   "execution_count": 145,
   "metadata": {},
   "outputs": [
    {
     "data": {
      "text/plain": [
       "Packet(version=7, type=3, length=51, packets=[Packet(version=2, type=4, length=11, packets=[], literal=1), Packet(version=4, type=4, length=11, packets=[], literal=2), Packet(version=1, type=4, length=11, packets=[], literal=3)], literal=0)"
      ]
     },
     "execution_count": 145,
     "metadata": {},
     "output_type": "execute_result"
    }
   ],
   "source": [
    "parse_packet(\"11101110000000001101010000001100100000100011000001100000\", 0)"
   ]
  },
  {
   "cell_type": "code",
   "execution_count": 146,
   "metadata": {},
   "outputs": [],
   "source": [
    "def sum_versions(packet: Packet):\n",
    "    return packet.version + sum(sum_versions(p) for p in packet.packets)"
   ]
  },
  {
   "cell_type": "code",
   "execution_count": 147,
   "metadata": {},
   "outputs": [],
   "source": [
    "def solve_a(data) -> int:\n",
    "    return sum_versions(parse_packet(data))"
   ]
  },
  {
   "cell_type": "code",
   "execution_count": 148,
   "metadata": {},
   "outputs": [
    {
     "name": "stdout",
     "output_type": "stream",
     "text": [
      "996\n"
     ]
    }
   ],
   "source": [
    "solution_a = solve_a(data)\n",
    "print(solution_a)"
   ]
  },
  {
   "cell_type": "code",
   "execution_count": 137,
   "metadata": {},
   "outputs": [],
   "source": [
    "puzzle.answer_a = solution_a"
   ]
  },
  {
   "cell_type": "markdown",
   "metadata": {},
   "source": [
    "## Part 2"
   ]
  },
  {
   "cell_type": "code",
   "execution_count": 128,
   "metadata": {},
   "outputs": [],
   "source": [
    "def operate_packet(packet: Packet):\n",
    "    if packet.type == 4:\n",
    "        return packet.literal\n",
    "    elif packet.type == 0:\n",
    "        return sum([operate_packet(p) for p in packet.packets])\n",
    "    elif packet.type == 1:\n",
    "        return np.prod([operate_packet(p) for p in packet.packets])\n",
    "    elif packet.type == 2:\n",
    "        return min([operate_packet(p) for p in packet.packets])\n",
    "    elif packet.type == 3:\n",
    "        return max([operate_packet(p) for p in packet.packets])\n",
    "    elif packet.type == 5:\n",
    "        return operate_packet(packet.packets[0]) > operate_packet(packet.packets[1])\n",
    "    elif packet.type == 6:\n",
    "        return operate_packet(packet.packets[0]) < operate_packet(packet.packets[1])\n",
    "    elif packet.type == 7:\n",
    "        return operate_packet(packet.packets[0]) == operate_packet(packet.packets[1])"
   ]
  },
  {
   "cell_type": "code",
   "execution_count": 129,
   "metadata": {},
   "outputs": [],
   "source": [
    "def solve_b(data) -> int:\n",
    "    return operate_packet(parse_packet(data))"
   ]
  },
  {
   "cell_type": "code",
   "execution_count": 130,
   "metadata": {},
   "outputs": [
    {
     "name": "stdout",
     "output_type": "stream",
     "text": [
      "96257984154\n"
     ]
    }
   ],
   "source": [
    "solution_b = solve_b(data)\n",
    "print(solution_b)"
   ]
  },
  {
   "cell_type": "code",
   "execution_count": 118,
   "metadata": {},
   "outputs": [
    {
     "name": "stdout",
     "output_type": "stream",
     "text": [
      "Part b already solved with same answer: 96257984154\n"
     ]
    }
   ],
   "source": [
    "puzzle.answer_b = solution_b"
   ]
  }
 ],
 "metadata": {
  "interpreter": {
   "hash": "dff300229a66d14808f681671adfaef0ab8c8a39abb01081ab67b0c5d3086a57"
  },
  "kernelspec": {
   "display_name": "Python 3.9.8 64-bit ('aoc-2021-ZBQgDlLz': pipenv)",
   "language": "python",
   "name": "python3"
  },
  "language_info": {
   "codemirror_mode": {
    "name": "ipython",
    "version": 3
   },
   "file_extension": ".py",
   "mimetype": "text/x-python",
   "name": "python",
   "nbconvert_exporter": "python",
   "pygments_lexer": "ipython3",
   "version": "3.9.8"
  },
  "orig_nbformat": 4
 },
 "nbformat": 4,
 "nbformat_minor": 2
}
