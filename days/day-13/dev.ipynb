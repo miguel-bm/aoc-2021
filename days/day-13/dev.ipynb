{
 "cells": [
  {
   "cell_type": "markdown",
   "metadata": {},
   "source": [
    "# Advent of Code 2021 day 13"
   ]
  },
  {
   "cell_type": "code",
   "execution_count": 2,
   "metadata": {},
   "outputs": [],
   "source": [
    "from collections import *\n",
    "from itertools import *\n",
    "from functools import *\n",
    "\n",
    "from aocd.models import Puzzle\n",
    "import numpy as np\n",
    "import parse\n",
    "from aocp import *\n",
    "\n",
    "example: str = \"\"\"6,10\n",
    "0,14\n",
    "9,10\n",
    "0,3\n",
    "10,4\n",
    "4,11\n",
    "6,0\n",
    "6,12\n",
    "4,1\n",
    "0,13\n",
    "10,12\n",
    "3,4\n",
    "3,0\n",
    "8,4\n",
    "1,10\n",
    "2,14\n",
    "8,10\n",
    "9,0\n",
    "\n",
    "fold along y=7\n",
    "fold along x=5\"\"\"\n",
    "example_sol_a: int = None\n",
    "example_sol_b: int = None\n",
    "\n",
    "\n",
    "puzzle = Puzzle(year=2021, day=13)\n",
    "raw_data = puzzle.input_data"
   ]
  },
  {
   "cell_type": "code",
   "execution_count": 91,
   "metadata": {},
   "outputs": [],
   "source": [
    "def parse_input(raw_data: str):\n",
    "    return TupleParser((\n",
    "        SetParser(TupleParser(int)), \n",
    "        ListParser(TupleParser((CustomTransform(lambda x: x[-1]), IntParser()), splitter=\"=\")))\n",
    "    ).parse(raw_data)"
   ]
  },
  {
   "cell_type": "code",
   "execution_count": 73,
   "metadata": {},
   "outputs": [],
   "source": [
    "example_data = parse_input(example)\n",
    "data = parse_input(raw_data)"
   ]
  },
  {
   "cell_type": "code",
   "execution_count": 75,
   "metadata": {},
   "outputs": [
    {
     "data": {
      "text/plain": [
       "({(0, 3),\n",
       "  (0, 13),\n",
       "  (0, 14),\n",
       "  (1, 10),\n",
       "  (2, 14),\n",
       "  (3, 0),\n",
       "  (3, 4),\n",
       "  (4, 1),\n",
       "  (4, 11),\n",
       "  (6, 0),\n",
       "  (6, 10),\n",
       "  (6, 12),\n",
       "  (8, 4),\n",
       "  (8, 10),\n",
       "  (9, 0),\n",
       "  (9, 10),\n",
       "  (10, 4),\n",
       "  (10, 12)},\n",
       " [('y', 7), ('x', 5)])"
      ]
     },
     "execution_count": 75,
     "metadata": {},
     "output_type": "execute_result"
    }
   ],
   "source": [
    "example_data"
   ]
  },
  {
   "cell_type": "markdown",
   "metadata": {},
   "source": [
    "## Part 1"
   ]
  },
  {
   "cell_type": "code",
   "execution_count": 85,
   "metadata": {},
   "outputs": [],
   "source": [
    "def execute_fold(dots: list[tuple[int, int]], fold: tuple[str, int]) -> list[tuple[int, int]]:\n",
    "    dir, pos = fold\n",
    "    if dir == \"x\":\n",
    "        return {((x, y) if x < pos else (pos - (x-pos), y)) for x, y in dots}\n",
    "    elif dir == \"y\":\n",
    "        return {((x, y) if y < pos else (x, pos - (y-pos))) for x, y in dots}"
   ]
  },
  {
   "cell_type": "code",
   "execution_count": 88,
   "metadata": {},
   "outputs": [],
   "source": [
    "def solve_a(data) -> int:\n",
    "    dots, folds = data\n",
    "    return len(execute_fold(dots, folds[0]))"
   ]
  },
  {
   "cell_type": "code",
   "execution_count": 89,
   "metadata": {},
   "outputs": [
    {
     "name": "stdout",
     "output_type": "stream",
     "text": [
      "842\n"
     ]
    }
   ],
   "source": [
    "solution_a = solve_a(data)\n",
    "print(solution_a)"
   ]
  },
  {
   "cell_type": "code",
   "execution_count": null,
   "metadata": {},
   "outputs": [],
   "source": [
    "puzzle.answer_a = solution_a"
   ]
  },
  {
   "cell_type": "markdown",
   "metadata": {},
   "source": [
    "## Part 2"
   ]
  },
  {
   "cell_type": "code",
   "execution_count": 62,
   "metadata": {},
   "outputs": [],
   "source": [
    "def solve_b(data) -> int:\n",
    "    dots, folds = data\n",
    "    for fold in folds:\n",
    "        dots = execute_fold(dots, fold)\n",
    "    dims = (max(x for x, _ in dots)+1, max(y for _, y in dots)+1)\n",
    "    panel = np.zeros(dims, dtype=int)\n",
    "    for dot in dots:\n",
    "        panel[dot] = 1\n",
    "    for line in panel.transpose():\n",
    "        for char in line:\n",
    "            print((\"█\" if char else \" \"), end=\"\")\n",
    "        print()"
   ]
  },
  {
   "cell_type": "code",
   "execution_count": 65,
   "metadata": {},
   "outputs": [
    {
     "name": "stdout",
     "output_type": "stream",
     "text": [
      "███  ████ █  █ ███   ██    ██ ████ █  █\n",
      "█  █ █    █ █  █  █ █  █    █    █ █  █\n",
      "███  ███  ██   █  █ █       █   █  █  █\n",
      "█  █ █    █ █  ███  █       █  █   █  █\n",
      "█  █ █    █ █  █ █  █  █ █  █ █    █  █\n",
      "███  █    █  █ █  █  ██   ██  ████  ██ \n"
     ]
    }
   ],
   "source": [
    "solution_b = solve_b(data)"
   ]
  }
 ],
 "metadata": {
  "interpreter": {
   "hash": "dff300229a66d14808f681671adfaef0ab8c8a39abb01081ab67b0c5d3086a57"
  },
  "kernelspec": {
   "display_name": "Python 3.9.8 64-bit ('aoc-2021-ZBQgDlLz': pipenv)",
   "language": "python",
   "name": "python3"
  },
  "language_info": {
   "codemirror_mode": {
    "name": "ipython",
    "version": 3
   },
   "file_extension": ".py",
   "mimetype": "text/x-python",
   "name": "python",
   "nbconvert_exporter": "python",
   "pygments_lexer": "ipython3",
   "version": "3.9.8"
  },
  "orig_nbformat": 4
 },
 "nbformat": 4,
 "nbformat_minor": 2
}
