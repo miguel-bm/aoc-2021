{
 "cells": [
  {
   "cell_type": "markdown",
   "metadata": {},
   "source": [
    "# Advent of Code 2021 day 12"
   ]
  },
  {
   "cell_type": "code",
   "execution_count": 2,
   "metadata": {},
   "outputs": [],
   "source": [
    "from collections import *\n",
    "from itertools import *\n",
    "from functools import *\n",
    "\n",
    "from aocd.models import Puzzle\n",
    "import numpy as np\n",
    "import parse\n",
    "from aocp import *\n",
    "\n",
    "example: str = \"\"\"start-A\n",
    "start-b\n",
    "A-c\n",
    "A-b\n",
    "b-d\n",
    "A-end\n",
    "b-end\"\"\"\n",
    "example_sol_a: int = None\n",
    "example_sol_b: int = None\n",
    "\n",
    "\n",
    "puzzle = Puzzle(year=2021, day=12)\n",
    "raw_data = puzzle.input_data"
   ]
  },
  {
   "cell_type": "code",
   "execution_count": 9,
   "metadata": {},
   "outputs": [],
   "source": [
    "def parse_input(raw_data: str):\n",
    "    return ListParser(TupleParser(splitter=\"-\")).parse(raw_data)"
   ]
  },
  {
   "cell_type": "code",
   "execution_count": 10,
   "metadata": {},
   "outputs": [],
   "source": [
    "example_data = parse_input(example)\n",
    "data = parse_input(raw_data)"
   ]
  },
  {
   "cell_type": "code",
   "execution_count": 11,
   "metadata": {},
   "outputs": [
    {
     "data": {
      "text/plain": [
       "[('start', 'A'),\n",
       " ('start', 'b'),\n",
       " ('A', 'c'),\n",
       " ('A', 'b'),\n",
       " ('b', 'd'),\n",
       " ('A', 'end'),\n",
       " ('b', 'end')]"
      ]
     },
     "execution_count": 11,
     "metadata": {},
     "output_type": "execute_result"
    }
   ],
   "source": [
    "example_data"
   ]
  },
  {
   "cell_type": "markdown",
   "metadata": {},
   "source": [
    "## Part 1"
   ]
  },
  {
   "cell_type": "code",
   "execution_count": 20,
   "metadata": {},
   "outputs": [],
   "source": [
    "def graph_to_node_map(graph: list[tuple[str, str]]) -> dict[str, str]:\n",
    "    node_map = defaultdict(list)\n",
    "    for a, b in graph:\n",
    "        if b != \"start\" and a != \"end\":\n",
    "            node_map[a].append(b)\n",
    "        if b != \"end\" and a != \"start\":\n",
    "            node_map[b].append(a)\n",
    "    return dict(node_map)"
   ]
  },
  {
   "cell_type": "code",
   "execution_count": 158,
   "metadata": {},
   "outputs": [
    {
     "data": {
      "text/plain": [
       "{'he': ['JK', 'XC', 'at', 'pc'],\n",
       " 'JK': ['he', 'wy', 'end', 'pc', 'vt'],\n",
       " 'wy': ['KY', 'vt', 'end', 'JK', 'pc'],\n",
       " 'KY': ['wy'],\n",
       " 'pc': ['XC', 'wy', 'LJ', 'at', 'JK', 'he'],\n",
       " 'XC': ['pc', 'xf', 'he', 'vt'],\n",
       " 'vt': ['wy', 'LJ', 'XC', 'JK'],\n",
       " 'LJ': ['vt', 'end', 'pc', 'at'],\n",
       " 'start': ['he', 'at', 'XC'],\n",
       " 'at': ['pc', 'he', 'LJ'],\n",
       " 'xf': ['XC']}"
      ]
     },
     "execution_count": 158,
     "metadata": {},
     "output_type": "execute_result"
    }
   ],
   "source": [
    "graph_to_node_map(data)"
   ]
  },
  {
   "cell_type": "code",
   "execution_count": 115,
   "metadata": {},
   "outputs": [],
   "source": [
    "def is_valid_path_a(path: list[str]) -> bool:\n",
    "    return max((v for k, v in Counter(path).items() if k.islower()), default=0) < 2"
   ]
  },
  {
   "cell_type": "code",
   "execution_count": 149,
   "metadata": {},
   "outputs": [],
   "source": [
    "def find_paths(cave_map: dict[str, list[str]], path_validator: callable, path: list[tuple[str, str]] = None, start: str = \"start\", end: str = \"end\"):\n",
    "    path = path or [start]\n",
    "    for next in cave_map[path[-1]]:\n",
    "        if next == end:\n",
    "            yield path + [end]\n",
    "        elif path_validator(new_path:=(path + [next])):\n",
    "            yield from find_paths(cave_map, path_validator, new_path)"
   ]
  },
  {
   "cell_type": "code",
   "execution_count": 150,
   "metadata": {},
   "outputs": [
    {
     "data": {
      "text/plain": [
       "10"
      ]
     },
     "execution_count": 150,
     "metadata": {},
     "output_type": "execute_result"
    }
   ],
   "source": [
    "sum(1 for _ in find_paths(graph_to_node_map(example_data), is_valid_path_a))"
   ]
  },
  {
   "cell_type": "code",
   "execution_count": 151,
   "metadata": {},
   "outputs": [],
   "source": [
    "def is_valid_path_b(path: list[str]) -> bool:\n",
    "    return np.prod([v for k, v in Counter(path).items() if k.islower()]) <= 2"
   ]
  },
  {
   "cell_type": "code",
   "execution_count": 152,
   "metadata": {},
   "outputs": [
    {
     "data": {
      "text/plain": [
       "36"
      ]
     },
     "execution_count": 152,
     "metadata": {},
     "output_type": "execute_result"
    }
   ],
   "source": [
    "sum(1 for _ in find_paths(graph_to_node_map(example_data), is_valid_path_b))"
   ]
  },
  {
   "cell_type": "code",
   "execution_count": 153,
   "metadata": {},
   "outputs": [],
   "source": [
    "def solve_a(data) -> int:\n",
    "    return sum(1 for _ in find_paths(graph_to_node_map(data), is_valid_path_a))"
   ]
  },
  {
   "cell_type": "code",
   "execution_count": 154,
   "metadata": {},
   "outputs": [
    {
     "name": "stdout",
     "output_type": "stream",
     "text": [
      "4104\n"
     ]
    }
   ],
   "source": [
    "solution_a = solve_a(data)\n",
    "print(solution_a)"
   ]
  },
  {
   "cell_type": "code",
   "execution_count": 49,
   "metadata": {},
   "outputs": [
    {
     "name": "stdout",
     "output_type": "stream",
     "text": [
      "\u001b[32mThat's the right answer!  You are one gold star closer to finding the sleigh keys. [Continue to Part Two]\u001b[0m\n"
     ]
    }
   ],
   "source": [
    "puzzle.answer_a = solution_a"
   ]
  },
  {
   "cell_type": "markdown",
   "metadata": {},
   "source": [
    "## Part 2"
   ]
  },
  {
   "cell_type": "code",
   "execution_count": 155,
   "metadata": {},
   "outputs": [],
   "source": [
    "def solve_b(data) -> int:\n",
    "    return sum(1 for _ in find_paths(graph_to_node_map(data), is_valid_path_b))"
   ]
  },
  {
   "cell_type": "code",
   "execution_count": 156,
   "metadata": {},
   "outputs": [
    {
     "name": "stdout",
     "output_type": "stream",
     "text": [
      "119760\n"
     ]
    }
   ],
   "source": [
    "solution_b = solve_b(data)\n",
    "print(solution_b)"
   ]
  },
  {
   "cell_type": "code",
   "execution_count": 157,
   "metadata": {},
   "outputs": [],
   "source": [
    "puzzle.answer_b = solution_b"
   ]
  },
  {
   "cell_type": "code",
   "execution_count": null,
   "metadata": {},
   "outputs": [],
   "source": []
  }
 ],
 "metadata": {
  "interpreter": {
   "hash": "dff300229a66d14808f681671adfaef0ab8c8a39abb01081ab67b0c5d3086a57"
  },
  "kernelspec": {
   "display_name": "Python 3.9.8 64-bit ('aoc-2021-ZBQgDlLz': pipenv)",
   "language": "python",
   "name": "python3"
  },
  "language_info": {
   "codemirror_mode": {
    "name": "ipython",
    "version": 3
   },
   "file_extension": ".py",
   "mimetype": "text/x-python",
   "name": "python",
   "nbconvert_exporter": "python",
   "pygments_lexer": "ipython3",
   "version": "3.9.8"
  },
  "orig_nbformat": 4
 },
 "nbformat": 4,
 "nbformat_minor": 2
}
