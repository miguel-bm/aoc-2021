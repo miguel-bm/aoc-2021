{
 "cells": [
  {
   "cell_type": "markdown",
   "metadata": {},
   "source": [
    "# Advent of Code 2021 day 14"
   ]
  },
  {
   "cell_type": "code",
   "execution_count": 1,
   "metadata": {},
   "outputs": [],
   "source": [
    "from collections import *\n",
    "from itertools import *\n",
    "from functools import *\n",
    "\n",
    "from aocd.models import Puzzle\n",
    "import numpy as np\n",
    "import parse\n",
    "from aocp import *\n",
    "\n",
    "example: str = \"\"\"NNCB\n",
    "\n",
    "CH -> B\n",
    "HH -> N\n",
    "CB -> H\n",
    "NH -> C\n",
    "HB -> C\n",
    "HC -> B\n",
    "HN -> C\n",
    "NN -> C\n",
    "BH -> H\n",
    "NC -> B\n",
    "NB -> B\n",
    "BN -> B\n",
    "BB -> N\n",
    "BC -> B\n",
    "CC -> N\n",
    "CN -> C\"\"\"\n",
    "example_sol_a: int = 1588\n",
    "example_sol_b: int = 2188189693529\n",
    "\n",
    "\n",
    "puzzle = Puzzle(year=2021, day=14)\n",
    "raw_data = puzzle.input_data"
   ]
  },
  {
   "cell_type": "code",
   "execution_count": 22,
   "metadata": {},
   "outputs": [],
   "source": [
    "def parse_input(raw_data: str):\n",
    "    template, rules =  TupleParser((str, ListParser(TupleParser()))).parse(raw_data)\n",
    "    rules = {k: v for k, v in rules}\n",
    "    return template, rules"
   ]
  },
  {
   "cell_type": "code",
   "execution_count": 23,
   "metadata": {},
   "outputs": [],
   "source": [
    "example_data = parse_input(example)\n",
    "data = parse_input(raw_data)"
   ]
  },
  {
   "cell_type": "code",
   "execution_count": 4,
   "metadata": {},
   "outputs": [
    {
     "data": {
      "text/plain": [
       "('NNCB',\n",
       " {'CH': 'B',\n",
       "  'HH': 'N',\n",
       "  'CB': 'H',\n",
       "  'NH': 'C',\n",
       "  'HB': 'C',\n",
       "  'HC': 'B',\n",
       "  'HN': 'C',\n",
       "  'NN': 'C',\n",
       "  'BH': 'H',\n",
       "  'NC': 'B',\n",
       "  'NB': 'B',\n",
       "  'BN': 'B',\n",
       "  'BB': 'N',\n",
       "  'BC': 'B',\n",
       "  'CC': 'N',\n",
       "  'CN': 'C'})"
      ]
     },
     "execution_count": 4,
     "metadata": {},
     "output_type": "execute_result"
    }
   ],
   "source": [
    "example_data"
   ]
  },
  {
   "cell_type": "markdown",
   "metadata": {},
   "source": [
    "## Part 1"
   ]
  },
  {
   "cell_type": "code",
   "execution_count": 5,
   "metadata": {},
   "outputs": [],
   "source": [
    "def pair_insertion(pairs: dict[tuple[str, str], int], rules: dict[tuple[str, str]], elements: Counter) -> dict[tuple[str, str], int]:\n",
    "    new_pairs = Counter()\n",
    "    new_elements = elements.copy()\n",
    "    for pair, count in pairs.items():\n",
    "        if insertion:=rules.get(pair):\n",
    "            new_pairs[pair[0] + insertion] += count\n",
    "            new_pairs[insertion + pair[1]] += count\n",
    "            new_elements[insertion] += count\n",
    "        else:\n",
    "            new_pairs[pair] += count\n",
    "    return new_pairs, new_elements"
   ]
  },
  {
   "cell_type": "code",
   "execution_count": 6,
   "metadata": {},
   "outputs": [],
   "source": [
    "def solve_a(data) -> int:\n",
    "    template, rules = data\n",
    "    pairs = Counter(template[i:i+2] for i in range(len(template)-1))\n",
    "    elements = Counter(template)\n",
    "    for _ in range(10):\n",
    "        pairs, elements = pair_insertion(pairs, rules, elements)\n",
    "    return max(elements.values()) - min(elements.values())"
   ]
  },
  {
   "cell_type": "code",
   "execution_count": 7,
   "metadata": {},
   "outputs": [
    {
     "name": "stdout",
     "output_type": "stream",
     "text": [
      "2027\n"
     ]
    }
   ],
   "source": [
    "solution_a = solve_a(data)\n",
    "print(solution_a)"
   ]
  },
  {
   "cell_type": "code",
   "execution_count": 8,
   "metadata": {},
   "outputs": [],
   "source": [
    "puzzle.answer_a = solution_a"
   ]
  },
  {
   "cell_type": "markdown",
   "metadata": {},
   "source": [
    "## Part 2"
   ]
  },
  {
   "cell_type": "code",
   "execution_count": 9,
   "metadata": {},
   "outputs": [],
   "source": [
    "def solve_b(data) -> int:\n",
    "    template, rules = data\n",
    "    pairs = Counter(template[i:i+2] for i in range(len(template)-1))\n",
    "    elements = Counter(template)\n",
    "    for _ in range(40):\n",
    "        pairs, elements = pair_insertion(pairs, rules, elements)\n",
    "    return max(elements.values()) - min(elements.values())"
   ]
  },
  {
   "cell_type": "code",
   "execution_count": 10,
   "metadata": {},
   "outputs": [
    {
     "name": "stdout",
     "output_type": "stream",
     "text": [
      "2265039461737\n"
     ]
    }
   ],
   "source": [
    "solution_b = solve_b(data)\n",
    "print(solution_b)"
   ]
  },
  {
   "cell_type": "code",
   "execution_count": 11,
   "metadata": {},
   "outputs": [],
   "source": [
    "puzzle.answer_b = solution_b"
   ]
  }
 ],
 "metadata": {
  "interpreter": {
   "hash": "dff300229a66d14808f681671adfaef0ab8c8a39abb01081ab67b0c5d3086a57"
  },
  "kernelspec": {
   "display_name": "Python 3.9.8 64-bit ('aoc-2021-ZBQgDlLz': pipenv)",
   "language": "python",
   "name": "python3"
  },
  "language_info": {
   "codemirror_mode": {
    "name": "ipython",
    "version": 3
   },
   "file_extension": ".py",
   "mimetype": "text/x-python",
   "name": "python",
   "nbconvert_exporter": "python",
   "pygments_lexer": "ipython3",
   "version": "3.9.8"
  },
  "orig_nbformat": 4
 },
 "nbformat": 4,
 "nbformat_minor": 2
}
