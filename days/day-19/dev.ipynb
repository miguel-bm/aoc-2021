{
 "cells": [
  {
   "cell_type": "markdown",
   "metadata": {},
   "source": [
    "# Advent of Code 2021 day 19"
   ]
  },
  {
   "cell_type": "code",
   "execution_count": 95,
   "metadata": {},
   "outputs": [],
   "source": [
    "from __future__ import annotations\n",
    "from collections import *\n",
    "from itertools import *\n",
    "from functools import *\n",
    "\n",
    "from aocd.models import Puzzle\n",
    "import numpy as np\n",
    "import parse\n",
    "from aocp import *"
   ]
  },
  {
   "cell_type": "code",
   "execution_count": 2,
   "metadata": {},
   "outputs": [],
   "source": [
    "\n",
    "example: str = \"\"\"--- scanner 0 ---\n",
    "404,-588,-901\n",
    "528,-643,409\n",
    "-838,591,734\n",
    "390,-675,-793\n",
    "-537,-823,-458\n",
    "-485,-357,347\n",
    "-345,-311,381\n",
    "-661,-816,-575\n",
    "-876,649,763\n",
    "-618,-824,-621\n",
    "553,345,-567\n",
    "474,580,667\n",
    "-447,-329,318\n",
    "-584,868,-557\n",
    "544,-627,-890\n",
    "564,392,-477\n",
    "455,729,728\n",
    "-892,524,684\n",
    "-689,845,-530\n",
    "423,-701,434\n",
    "7,-33,-71\n",
    "630,319,-379\n",
    "443,580,662\n",
    "-789,900,-551\n",
    "459,-707,401\n",
    "\n",
    "--- scanner 1 ---\n",
    "686,422,578\n",
    "605,423,415\n",
    "515,917,-361\n",
    "-336,658,858\n",
    "95,138,22\n",
    "-476,619,847\n",
    "-340,-569,-846\n",
    "567,-361,727\n",
    "-460,603,-452\n",
    "669,-402,600\n",
    "729,430,532\n",
    "-500,-761,534\n",
    "-322,571,750\n",
    "-466,-666,-811\n",
    "-429,-592,574\n",
    "-355,545,-477\n",
    "703,-491,-529\n",
    "-328,-685,520\n",
    "413,935,-424\n",
    "-391,539,-444\n",
    "586,-435,557\n",
    "-364,-763,-893\n",
    "807,-499,-711\n",
    "755,-354,-619\n",
    "553,889,-390\n",
    "\n",
    "--- scanner 2 ---\n",
    "649,640,665\n",
    "682,-795,504\n",
    "-784,533,-524\n",
    "-644,584,-595\n",
    "-588,-843,648\n",
    "-30,6,44\n",
    "-674,560,763\n",
    "500,723,-460\n",
    "609,671,-379\n",
    "-555,-800,653\n",
    "-675,-892,-343\n",
    "697,-426,-610\n",
    "578,704,681\n",
    "493,664,-388\n",
    "-671,-858,530\n",
    "-667,343,800\n",
    "571,-461,-707\n",
    "-138,-166,112\n",
    "-889,563,-600\n",
    "646,-828,498\n",
    "640,759,510\n",
    "-630,509,768\n",
    "-681,-892,-333\n",
    "673,-379,-804\n",
    "-742,-814,-386\n",
    "577,-820,562\n",
    "\n",
    "--- scanner 3 ---\n",
    "-589,542,597\n",
    "605,-692,669\n",
    "-500,565,-823\n",
    "-660,373,557\n",
    "-458,-679,-417\n",
    "-488,449,543\n",
    "-626,468,-788\n",
    "338,-750,-386\n",
    "528,-832,-391\n",
    "562,-778,733\n",
    "-938,-730,414\n",
    "543,643,-506\n",
    "-524,371,-870\n",
    "407,773,750\n",
    "-104,29,83\n",
    "378,-903,-323\n",
    "-778,-728,485\n",
    "426,699,580\n",
    "-438,-605,-362\n",
    "-469,-447,-387\n",
    "509,732,623\n",
    "647,635,-688\n",
    "-868,-804,481\n",
    "614,-800,639\n",
    "595,780,-596\n",
    "\n",
    "--- scanner 4 ---\n",
    "727,592,562\n",
    "-293,-554,779\n",
    "441,611,-461\n",
    "-714,465,-776\n",
    "-743,427,-804\n",
    "-660,-479,-426\n",
    "832,-632,460\n",
    "927,-485,-438\n",
    "408,393,-506\n",
    "466,436,-512\n",
    "110,16,151\n",
    "-258,-428,682\n",
    "-393,719,612\n",
    "-211,-452,876\n",
    "808,-476,-593\n",
    "-575,615,604\n",
    "-485,667,467\n",
    "-680,325,-822\n",
    "-627,-443,-432\n",
    "872,-547,-609\n",
    "833,512,582\n",
    "807,604,487\n",
    "839,-516,451\n",
    "891,-625,532\n",
    "-652,-548,-490\n",
    "30,-46,-14\"\"\"\n",
    "example_sol_a: int = 79\n",
    "example_sol_b: int = 3621\n",
    "\n",
    "\n",
    "puzzle = Puzzle(year=2021, day=19)\n",
    "raw_data = puzzle.input_data"
   ]
  },
  {
   "cell_type": "code",
   "execution_count": 18,
   "metadata": {},
   "outputs": [],
   "source": [
    "def parse_input(raw_data: str):\n",
    "    return dict(ListParser(\n",
    "        TupleParser((\n",
    "            IntParser(), \n",
    "            SetParser(TupleParser(int)))\n",
    "        )\n",
    "    ).parse(raw_data))"
   ]
  },
  {
   "cell_type": "code",
   "execution_count": 23,
   "metadata": {},
   "outputs": [],
   "source": [
    "example_data = parse_input(example)\n",
    "data = parse_input(raw_data)"
   ]
  },
  {
   "cell_type": "markdown",
   "metadata": {},
   "source": [
    "## Part 1"
   ]
  },
  {
   "cell_type": "code",
   "execution_count": 122,
   "metadata": {},
   "outputs": [],
   "source": [
    "def rot_matrix_line_gen():\n",
    "    for i, v in product((0,1,2), (1,-1)):\n",
    "        vec = np.zeros(3)\n",
    "        vec[i] = v\n",
    "        yield vec\n",
    "\n",
    "def rot_matrix_gen():\n",
    "    for v1, v2, v3 in product(rot_matrix_line_gen(), repeat = 3):\n",
    "        if np.linalg.det(R:=np.array([v1, v2, v3])) == 1:\n",
    "            yield R\n",
    "\n",
    "class Scanner:\n",
    "    def __init__(self, id: int, probe_positions: set[tuple[int,int,int]]):\n",
    "        self.id = id\n",
    "        self.probe_positions = {tuple(pos) for pos in probe_positions}\n",
    "\n",
    "    def rotation(self, R):\n",
    "        return Scanner(self.id, [np.dot(R,np.array(p)).astype(int) for p in self.probe_positions])\n",
    "\n",
    "    def rotate(self, R) -> Scanner:\n",
    "        self = self.rotation(R)\n",
    "\n",
    "    def iter_rotations(self) -> Iterator[tuple[np.ndarray, Scanner]]:\n",
    "        for R in rot_matrix_gen():\n",
    "            yield R, self.rotation(R)\n",
    "\n",
    "    def compare_positions(self, other: Scanner) -> tuple[np.ndarray, tuple[int,int,int]]:\n",
    "        for R, scanner in other.iter_rotations():\n",
    "            difs = []\n",
    "            for pos_1 in self.probe_positions:\n",
    "                for pos_2 in scanner.probe_positions:\n",
    "                    dif = np.array(pos_1) - np.array(pos_2)\n",
    "                    difs.append(tuple(dif))\n",
    "            count_difs = Counter(difs)\n",
    "            if max(count_difs.values()) >= 12:\n",
    "                return R, count_difs.most_common(1)[0][0]\n",
    "        return None, None\n",
    "\n",
    "    def add_probes(self, probes):\n",
    "        self.probe_positions.update(probes)\n",
    "        "
   ]
  },
  {
   "cell_type": "code",
   "execution_count": 175,
   "metadata": {},
   "outputs": [],
   "source": [
    "def position_probes_and_scanners(data: dict[int, set[tuple[int, int, int]]], reference: int = 0) -> tuple[set[tuple[int, int, int]], dict[int, tuple[int,int,int]]]:\n",
    "    scanners = {id: Scanner(id, pos) for id, pos in data.items()}\n",
    "    reference_scanner = scanners[reference]\n",
    "    scanner_positions = {reference: (0,0,0)}\n",
    "    while len(scanner_positions) < len(scanners):\n",
    "        for id_can, candidate_scanner in scanners.items():\n",
    "            if reference == id_can or id_can in scanner_positions:\n",
    "                continue\n",
    "            R, dif = reference_scanner.compare_positions(candidate_scanner)\n",
    "            if dif is not None:\n",
    "                scanner_positions[id_can] = dif\n",
    "                shifted_positions = [tuple(np.array(pos) + np.array(dif)) for pos in candidate_scanner.rotation(R).probe_positions]\n",
    "                reference_scanner.add_probes(shifted_positions)\n",
    "    return reference_scanner.probe_positions, scanner_positions"
   ]
  },
  {
   "cell_type": "code",
   "execution_count": 176,
   "metadata": {},
   "outputs": [],
   "source": [
    "def solve_a(data: dict) -> int:\n",
    "    probes, _ = position_probes_and_scanners(data)\n",
    "    return len(probes)"
   ]
  },
  {
   "cell_type": "code",
   "execution_count": 154,
   "metadata": {},
   "outputs": [
    {
     "data": {
      "text/plain": [
       "79"
      ]
     },
     "execution_count": 154,
     "metadata": {},
     "output_type": "execute_result"
    }
   ],
   "source": [
    "solve_a(example_data)"
   ]
  },
  {
   "cell_type": "code",
   "execution_count": 155,
   "metadata": {},
   "outputs": [
    {
     "name": "stdout",
     "output_type": "stream",
     "text": [
      "390\n"
     ]
    }
   ],
   "source": [
    "solution_a = solve_a(data)\n",
    "print(solution_a)"
   ]
  },
  {
   "cell_type": "code",
   "execution_count": 137,
   "metadata": {},
   "outputs": [
    {
     "name": "stdout",
     "output_type": "stream",
     "text": [
      "\u001b[32mThat's the right answer!  You are one gold star closer to finding the sleigh keys. You got rank 416 on this star's leaderboard. [Continue to Part Two]\u001b[0m\n"
     ]
    }
   ],
   "source": [
    "puzzle.answer_a = solution_a"
   ]
  },
  {
   "cell_type": "markdown",
   "metadata": {},
   "source": [
    "## Part 2"
   ]
  },
  {
   "cell_type": "code",
   "execution_count": 173,
   "metadata": {},
   "outputs": [],
   "source": [
    "def manhattan_distance(pos1, pos2):\n",
    "    return sum(abs(pos1[i] - pos2[i]) for i in range(3))"
   ]
  },
  {
   "cell_type": "code",
   "execution_count": 179,
   "metadata": {},
   "outputs": [],
   "source": [
    "def solve_b(data) -> int:\n",
    "    _, scanner_positions = position_probes_and_scanners(data)\n",
    "    max_distance = max(manhattan_distance(pos1, pos2) for pos1, pos2 in product(scanner_positions.values(), repeat=2))\n",
    "    return max_distance"
   ]
  },
  {
   "cell_type": "code",
   "execution_count": 180,
   "metadata": {},
   "outputs": [
    {
     "data": {
      "text/plain": [
       "3621"
      ]
     },
     "execution_count": 180,
     "metadata": {},
     "output_type": "execute_result"
    }
   ],
   "source": [
    "solve_b(example_data)"
   ]
  },
  {
   "cell_type": "code",
   "execution_count": 181,
   "metadata": {},
   "outputs": [
    {
     "name": "stdout",
     "output_type": "stream",
     "text": [
      "13327\n"
     ]
    }
   ],
   "source": [
    "solution_b = solve_b(data)\n",
    "print(solution_b)"
   ]
  },
  {
   "cell_type": "code",
   "execution_count": 182,
   "metadata": {},
   "outputs": [
    {
     "name": "stdout",
     "output_type": "stream",
     "text": [
      "Part b already solved with same answer: 13327\n"
     ]
    }
   ],
   "source": [
    "puzzle.answer_b = solution_b"
   ]
  }
 ],
 "metadata": {
  "interpreter": {
   "hash": "dff300229a66d14808f681671adfaef0ab8c8a39abb01081ab67b0c5d3086a57"
  },
  "kernelspec": {
   "display_name": "Python 3.9.8 64-bit ('aoc-2021-ZBQgDlLz': pipenv)",
   "language": "python",
   "name": "python3"
  },
  "language_info": {
   "codemirror_mode": {
    "name": "ipython",
    "version": 3
   },
   "file_extension": ".py",
   "mimetype": "text/x-python",
   "name": "python",
   "nbconvert_exporter": "python",
   "pygments_lexer": "ipython3",
   "version": "3.9.8"
  },
  "orig_nbformat": 4
 },
 "nbformat": 4,
 "nbformat_minor": 2
}
