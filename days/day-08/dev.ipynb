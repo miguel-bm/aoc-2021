{
 "cells": [
  {
   "cell_type": "markdown",
   "metadata": {},
   "source": [
    "# Advent of Code 2021 day 8"
   ]
  },
  {
   "cell_type": "code",
   "execution_count": 4,
   "metadata": {},
   "outputs": [],
   "source": [
    "from aocd.models import Puzzle\n",
    "import numpy as np\n",
    "from collections import *\n",
    "import parse\n",
    "\n",
    "example: str = \"\"\"be cfbegad cbdgef fgaecd cgeb fdcge agebfd fecdb fabcd edb | fdgacbe cefdb cefbgd gcbe\n",
    "edbfga begcd cbg gc gcadebf fbgde acbgfd abcde gfcbed gfec | fcgedb cgb dgebacf gc\n",
    "fgaebd cg bdaec gdafb agbcfd gdcbef bgcad gfac gcb cdgabef | cg cg fdcagb cbg\n",
    "fbegcd cbd adcefb dageb afcb bc aefdc ecdab fgdeca fcdbega | efabcd cedba gadfec cb\n",
    "aecbfdg fbg gf bafeg dbefa fcge gcbea fcaegb dgceab fcbdga | gecf egdcabf bgf bfgea\n",
    "fgeab ca afcebg bdacfeg cfaedg gcfdb baec bfadeg bafgc acf | gebdcfa ecba ca fadegcb\n",
    "dbcfg fgd bdegcaf fgec aegbdf ecdfab fbedc dacgb gdcebf gf | cefg dcbef fcge gbcadfe\n",
    "bdfegc cbegaf gecbf dfcage bdacg ed bedf ced adcbefg gebcd | ed bcgafe cdgba cbgef\n",
    "egadfb cdbfeg cegd fecab cgb gbdefca cg fgcdab egfdb bfceg | gbdfcae bgc cg cgb\n",
    "gcafb gcf dcaebfg ecagb gf abcdeg gaef cafbge fdbac fegbdc | fgae cfgab fg bagce\"\"\"\n",
    "example_sol_a: int = 26\n",
    "example_sol_b: int = 61229\n",
    "\n",
    "\n",
    "puzzle = Puzzle(year=2021, day=8)\n",
    "raw_data = puzzle.input_data"
   ]
  },
  {
   "cell_type": "code",
   "execution_count": 5,
   "metadata": {},
   "outputs": [],
   "source": [
    "def parse_input(raw_data: str):\n",
    "    return [\n",
    "        (\n",
    "            tuple(set(chars) for chars in line.strip().split(\"|\")[0].strip().split(\" \")), \n",
    "            tuple(set(chars) for chars in line.strip().split(\"|\")[1].strip().split(\" \"))\n",
    "        ) \n",
    "        for line in raw_data.strip().split(\"\\n\")\n",
    "        ]"
   ]
  },
  {
   "cell_type": "code",
   "execution_count": 17,
   "metadata": {},
   "outputs": [],
   "source": [
    "example_data = parse_input(example)\n",
    "data = parse_input(raw_data)"
   ]
  },
  {
   "cell_type": "markdown",
   "metadata": {},
   "source": [
    "## Part 1"
   ]
  },
  {
   "cell_type": "code",
   "execution_count": 7,
   "metadata": {},
   "outputs": [],
   "source": [
    "def solve_a(data: list[tuple[set, set]]) -> int:\n",
    "    return sum(len([e for e in outs if len(e) in (2, 3, 4, 7)]) for _, outs in data)"
   ]
  },
  {
   "cell_type": "code",
   "execution_count": 8,
   "metadata": {},
   "outputs": [
    {
     "name": "stdout",
     "output_type": "stream",
     "text": [
      "525\n"
     ]
    }
   ],
   "source": [
    "solution_a = solve_a(data)\n",
    "print(solution_a)"
   ]
  },
  {
   "cell_type": "code",
   "execution_count": 9,
   "metadata": {},
   "outputs": [],
   "source": [
    "puzzle.answer_a = solution_a"
   ]
  },
  {
   "cell_type": "markdown",
   "metadata": {},
   "source": [
    "## Part 2"
   ]
  },
  {
   "cell_type": "code",
   "execution_count": 11,
   "metadata": {},
   "outputs": [],
   "source": [
    "num_to_segments = {\n",
    "    0: set(\"abcefg\"),\n",
    "    1: set(\"cf\"),\n",
    "    2: set(\"acdeg\"),\n",
    "    3: set(\"acdfg\"),\n",
    "    4: set(\"bcdf\"),\n",
    "    5: set(\"abdfg\"),\n",
    "    6: set(\"abdefg\"),\n",
    "    7: set(\"acf\"),\n",
    "    8: set(\"abcdefg\"),\n",
    "    9: set(\"abcdfg\"),\n",
    "}\n",
    "num_to_num_segments = {i: len(s) for i, s in num_to_segments.items()}\n",
    "len_to_digits = defaultdict(set)\n",
    "for num, segments in num_to_segments.items():\n",
    "    len_to_digits[len(segments)].add(num)"
   ]
  },
  {
   "cell_type": "code",
   "execution_count": 15,
   "metadata": {},
   "outputs": [],
   "source": [
    "def find_translation_candidates(pattern: set, translations: dict[str, int]) -> set:\n",
    "    return set(\n",
    "        num for num in len_to_digits[len(pattern)] - set(translations.values())\n",
    "        if all(\n",
    "            (len(pattern & set(other_pattern)) == len(num_to_segments[num] & num_to_segments[other_num]) \n",
    "            for other_pattern, other_num in translations.items())\n",
    "        )\n",
    "    )\n",
    "\n",
    "set_to_str = lambda s: \"\".join(sorted(s))\n",
    "\n",
    "def find_translations(patterns: tuple[set]) -> dict[str, int]:\n",
    "    translations = {}\n",
    "    while len(translations) < 10:\n",
    "        for pattern in (p for p in patterns if set_to_str(p) not in translations):\n",
    "            if len(candidates := find_translation_candidates(pattern, translations)) == 1:\n",
    "                translations[set_to_str(pattern)] = candidates.pop()\n",
    "    return translations\n",
    "\n",
    "def translate_line(patterns: tuple[set], switched_outputs: str) -> str:\n",
    "    translations = find_translations(patterns)\n",
    "    return int(\"\".join(str(translations[set_to_str(p)]) for p in switched_outputs))\n",
    "    "
   ]
  },
  {
   "cell_type": "code",
   "execution_count": 13,
   "metadata": {},
   "outputs": [],
   "source": [
    "def solve_b(data) -> int:\n",
    "    return sum(translate_line(patterns, switched_outputs) for patterns, switched_outputs in data)"
   ]
  },
  {
   "cell_type": "code",
   "execution_count": 14,
   "metadata": {},
   "outputs": [
    {
     "name": "stdout",
     "output_type": "stream",
     "text": [
      "1083859\n"
     ]
    }
   ],
   "source": [
    "solution_b = solve_b(data)\n",
    "print(solution_b)"
   ]
  },
  {
   "cell_type": "code",
   "execution_count": 35,
   "metadata": {},
   "outputs": [],
   "source": [
    "puzzle.answer_b = solution_b"
   ]
  }
 ],
 "metadata": {
  "interpreter": {
   "hash": "dff300229a66d14808f681671adfaef0ab8c8a39abb01081ab67b0c5d3086a57"
  },
  "kernelspec": {
   "display_name": "Python 3.9.8 64-bit ('aoc-2021-ZBQgDlLz': pipenv)",
   "language": "python",
   "name": "python3"
  },
  "language_info": {
   "codemirror_mode": {
    "name": "ipython",
    "version": 3
   },
   "file_extension": ".py",
   "mimetype": "text/x-python",
   "name": "python",
   "nbconvert_exporter": "python",
   "pygments_lexer": "ipython3",
   "version": "3.9.8"
  },
  "orig_nbformat": 4
 },
 "nbformat": 4,
 "nbformat_minor": 2
}
