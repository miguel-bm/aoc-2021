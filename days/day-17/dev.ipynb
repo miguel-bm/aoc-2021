{
 "cells": [
  {
   "cell_type": "markdown",
   "metadata": {},
   "source": [
    "# Advent of Code 2021 day 17"
   ]
  },
  {
   "cell_type": "code",
   "execution_count": 165,
   "metadata": {},
   "outputs": [],
   "source": [
    "from collections import *\n",
    "from itertools import *\n",
    "from functools import *\n",
    "\n",
    "from aocd.models import Puzzle\n",
    "import numpy as np\n",
    "import parse\n",
    "from aocp import *\n",
    "\n",
    "example: str = \"\"\"target area: x=20..30, y=-10..-5\"\"\"\n",
    "example_sol_a: int = None\n",
    "example_sol_b: int = None\n",
    "\n",
    "\n",
    "puzzle = Puzzle(year=2021, day=17)\n",
    "raw_data = puzzle.input_data"
   ]
  },
  {
   "cell_type": "code",
   "execution_count": 166,
   "metadata": {},
   "outputs": [
    {
     "data": {
      "text/plain": [
       "'target area: x=257..286, y=-101..-57'"
      ]
     },
     "execution_count": 166,
     "metadata": {},
     "output_type": "execute_result"
    }
   ],
   "source": [
    "raw_data"
   ]
  },
  {
   "cell_type": "code",
   "execution_count": 167,
   "metadata": {},
   "outputs": [],
   "source": [
    "def parse_input(raw_data: str):\n",
    "    return list(parse.parse(\"target area: x={:d}..{:d}, y={:d}..{:d}\", raw_data))"
   ]
  },
  {
   "cell_type": "code",
   "execution_count": 168,
   "metadata": {},
   "outputs": [],
   "source": [
    "example_data = parse_input(example)\n",
    "data = parse_input(raw_data)"
   ]
  },
  {
   "cell_type": "markdown",
   "metadata": {},
   "source": [
    "## Part 1"
   ]
  },
  {
   "cell_type": "code",
   "execution_count": 169,
   "metadata": {},
   "outputs": [],
   "source": [
    "def solve_a(data) -> int:\n",
    "    _, _, y_min, _ = data\n",
    "    return int(abs(y_min)* (abs(y_min)-1)/2)"
   ]
  },
  {
   "cell_type": "code",
   "execution_count": 170,
   "metadata": {},
   "outputs": [
    {
     "name": "stdout",
     "output_type": "stream",
     "text": [
      "5050\n"
     ]
    }
   ],
   "source": [
    "solution_a = solve_a(data)\n",
    "print(solution_a)"
   ]
  },
  {
   "cell_type": "code",
   "execution_count": 171,
   "metadata": {},
   "outputs": [],
   "source": [
    "puzzle.answer_a = solution_a"
   ]
  },
  {
   "cell_type": "markdown",
   "metadata": {},
   "source": [
    "## Part 2"
   ]
  },
  {
   "cell_type": "code",
   "execution_count": 172,
   "metadata": {},
   "outputs": [],
   "source": [
    "def next_step(p, v):\n",
    "    return (p[0] + v[0], p[1] + v[1]), (max(v[0]-1, 0), v[1] - 1)"
   ]
  },
  {
   "cell_type": "code",
   "execution_count": 173,
   "metadata": {},
   "outputs": [],
   "source": [
    "def is_in_target(p, target):\n",
    "    return target[0] <= p[0] <= target[1] and target[2] <= p[1] <= target[3]"
   ]
  },
  {
   "cell_type": "code",
   "execution_count": 179,
   "metadata": {},
   "outputs": [],
   "source": [
    "def does_trajectory_pass(velocity: tuple, target: tuple):\n",
    "    position = (0, 0)\n",
    "    while position[1] >= target[2] and position[0] <= target[1]:\n",
    "        position, velocity = next_step(position, velocity)\n",
    "        if is_in_target(position, target):\n",
    "            return True\n",
    "    return False"
   ]
  },
  {
   "cell_type": "code",
   "execution_count": 189,
   "metadata": {},
   "outputs": [],
   "source": [
    "def solve_b(data) -> int:\n",
    "    x_min, x_max, y_min, y_max = data\n",
    "    return sum(does_trajectory_pass(v, (x_min, x_max, y_min, y_max)) for v in product(range(int(x_min**0.5), x_max+1), range(y_min, -y_min)))\n"
   ]
  },
  {
   "cell_type": "code",
   "execution_count": 190,
   "metadata": {},
   "outputs": [
    {
     "name": "stdout",
     "output_type": "stream",
     "text": [
      "2223\n"
     ]
    }
   ],
   "source": [
    "solution_b = solve_b(data)\n",
    "print(solution_b)"
   ]
  },
  {
   "cell_type": "code",
   "execution_count": 188,
   "metadata": {},
   "outputs": [],
   "source": [
    "puzzle.answer_b = solution_b"
   ]
  }
 ],
 "metadata": {
  "interpreter": {
   "hash": "dff300229a66d14808f681671adfaef0ab8c8a39abb01081ab67b0c5d3086a57"
  },
  "kernelspec": {
   "display_name": "Python 3.9.8 64-bit ('aoc-2021-ZBQgDlLz': pipenv)",
   "language": "python",
   "name": "python3"
  },
  "language_info": {
   "codemirror_mode": {
    "name": "ipython",
    "version": 3
   },
   "file_extension": ".py",
   "mimetype": "text/x-python",
   "name": "python",
   "nbconvert_exporter": "python",
   "pygments_lexer": "ipython3",
   "version": "3.9.8"
  },
  "orig_nbformat": 4
 },
 "nbformat": 4,
 "nbformat_minor": 2
}
