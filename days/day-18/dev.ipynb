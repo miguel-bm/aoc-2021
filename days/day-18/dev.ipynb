{
 "cells": [
  {
   "cell_type": "markdown",
   "metadata": {},
   "source": [
    "# Advent of Code 2021 day 18"
   ]
  },
  {
   "cell_type": "code",
   "execution_count": 187,
   "metadata": {},
   "outputs": [],
   "source": [
    "from collections import *\n",
    "from itertools import *\n",
    "from functools import *\n",
    "import json\n",
    "import math\n",
    "from typing import Union\n",
    "from __future__ import annotations\n",
    "\n",
    "\n",
    "from aocd.models import Puzzle\n",
    "import numpy as np\n",
    "import parse\n",
    "from aocp import *\n",
    "example: str = \"\"\"[[[0,[5,8]],[[1,7],[9,6]]],[[4,[1,2]],[[1,4],2]]]\n",
    "[[[5,[2,8]],4],[5,[[9,9],0]]]\n",
    "[6,[[[6,2],[5,6]],[[7,6],[4,7]]]]\n",
    "[[[6,[0,7]],[0,9]],[4,[9,[9,0]]]]\n",
    "[[[7,[6,4]],[3,[1,3]]],[[[5,5],1],9]]\n",
    "[[6,[[7,3],[3,2]]],[[[3,8],[5,7]],4]]\n",
    "[[[[5,4],[7,7]],8],[[8,3],8]]\n",
    "[[9,3],[[9,9],[6,[4,9]]]]\n",
    "[[2,[[7,7],7]],[[5,8],[[9,3],[0,2]]]]\n",
    "[[[[5,2],5],[8,[3,7]]],[[5,[7,5]],[4,4]]]\"\"\"\n",
    "example_sol_a: int = 4140\n",
    "example_sol_b: int = 4536\n",
    "\n",
    "\n",
    "puzzle = Puzzle(year=2021, day=18)\n",
    "raw_data = puzzle.input_data"
   ]
  },
  {
   "cell_type": "code",
   "execution_count": 51,
   "metadata": {},
   "outputs": [],
   "source": [
    "def parse_input(raw_data: str):\n",
    "    return [json.loads(line) for line in raw_data.splitlines()]"
   ]
  },
  {
   "cell_type": "code",
   "execution_count": 52,
   "metadata": {},
   "outputs": [],
   "source": [
    "example_data = parse_input(example)\n",
    "data = parse_input(raw_data)"
   ]
  },
  {
   "cell_type": "markdown",
   "metadata": {},
   "source": [
    "## Part 1"
   ]
  },
  {
   "cell_type": "code",
   "execution_count": 168,
   "metadata": {},
   "outputs": [],
   "source": [
    "class SFNumber:\n",
    "    def __init__(self, data):\n",
    "        left, right = data\n",
    "        self.left = left if isinstance(left, int) else SFNumber(left)\n",
    "        self.right = right if isinstance(right, int) else SFNumber(right)\n",
    "    \n",
    "    def __repr__(self):\n",
    "        return f\"({self.left},{self.right})\"\n",
    "\n",
    "    def __iter__(self):\n",
    "        return iter([self.left, self.right])\n",
    "\n",
    "    @classmethod\n",
    "    def _add(cls, number: Union[SFNumber, int], addition: int, to_left: bool):\n",
    "        if isinstance(number, int):\n",
    "            return number + (addition or 0)\n",
    "        if to_left:\n",
    "            return SFNumber((cls._add(number.left, addition, to_left), number.right))\n",
    "        else:\n",
    "            return SFNumber((number.left, cls._add(number.right, addition, to_left)))\n",
    "\n",
    "    @classmethod\n",
    "    def _explode_sfnumber(cls, number: Union[SFNumber, int], nesting=0) -> tuple[Union[SFNumber, int], Union[SFNumber, int], Union[SFNumber, int], bool]:\n",
    "        if isinstance(number, int):\n",
    "            return number, None, None, False\n",
    "        if nesting == 4:\n",
    "            return 0, number.left, number.right, True\n",
    "        sub, left, right, explodes = cls._explode_sfnumber(number.left, nesting+1)\n",
    "        if explodes:  \n",
    "            return SFNumber((sub, cls._add(number.right, right, True))), left, None, True\n",
    "        sub, left, right, explodes = cls._explode_sfnumber(number.right, nesting+1)\n",
    "        if explodes:\n",
    "            return SFNumber((cls._add(number.left, left, False), sub)), None, right, True\n",
    "        return number, None, None, False\n",
    " \n",
    "    @classmethod\n",
    "    def _split_sfnumber(cls, number: Union[SFNumber, int]) -> tuple[Union[SFNumber, int], bool]:\n",
    "        if isinstance(number, int):\n",
    "            if number >= 10:\n",
    "                return SFNumber((math.floor(number/2), math.ceil(number/2))), True\n",
    "            return number, False\n",
    "        left, splits = cls._split_sfnumber(number.left)\n",
    "        if splits:\n",
    "            return SFNumber((left, number.right)), True\n",
    "        right, splits = cls._split_sfnumber(number.right)\n",
    "        if splits:\n",
    "            return SFNumber((number.left, right)), True\n",
    "        return number, False\n",
    "\n",
    "    @classmethod\n",
    "    def _magnitude(cls, number: Union[SFNumber, int]):\n",
    "        if isinstance(number, int):\n",
    "            return number\n",
    "        return 3 * cls._magnitude(number.left) + 2 * cls._magnitude(number.right)\n",
    "\n",
    "    def explode(self):\n",
    "        number, _, _, explodes =  self._explode_sfnumber(self)\n",
    "        self.left = number.left\n",
    "        self.right = number.right\n",
    "        return explodes\n",
    "\n",
    "    def split(self):\n",
    "        number, splits = self._split_sfnumber(self)\n",
    "        self.left = number.left\n",
    "        self.right = number.right\n",
    "        return splits\n",
    "                                        \n",
    "    def reduce(self):\n",
    "        while True:\n",
    "            if self.explode():\n",
    "                continue\n",
    "            if self.split():\n",
    "                continue\n",
    "            break\n",
    "        return self\n",
    "        \n",
    "    def magnitude(self):\n",
    "        return self._magnitude(self)\n",
    "    \n",
    "    def __add__(self, other: SFNumber):\n",
    "        return SFNumber((self, other)).reduce()"
   ]
  },
  {
   "cell_type": "code",
   "execution_count": 175,
   "metadata": {},
   "outputs": [],
   "source": [
    "def solve_a(data) -> int:\n",
    "    result = reduce(SFNumber.__add__, [SFNumber(line) for line in data])\n",
    "    return result.magnitude()"
   ]
  },
  {
   "cell_type": "code",
   "execution_count": 176,
   "metadata": {},
   "outputs": [
    {
     "data": {
      "text/plain": [
       "4140"
      ]
     },
     "execution_count": 176,
     "metadata": {},
     "output_type": "execute_result"
    }
   ],
   "source": [
    "solve_a(example_data)"
   ]
  },
  {
   "cell_type": "code",
   "execution_count": 177,
   "metadata": {},
   "outputs": [
    {
     "name": "stdout",
     "output_type": "stream",
     "text": [
      "4088\n"
     ]
    }
   ],
   "source": [
    "solution_a = solve_a(data)\n",
    "print(solution_a)"
   ]
  },
  {
   "cell_type": "code",
   "execution_count": 178,
   "metadata": {},
   "outputs": [],
   "source": [
    "puzzle.answer_a = solution_a"
   ]
  },
  {
   "cell_type": "markdown",
   "metadata": {},
   "source": [
    "## Part 2"
   ]
  },
  {
   "cell_type": "code",
   "execution_count": 184,
   "metadata": {},
   "outputs": [],
   "source": [
    "def solve_b(data) -> int:\n",
    "    numbers = [SFNumber(line) for line in data]\n",
    "    results = [(a + b).magnitude() for a, b in product(numbers, numbers)]\n",
    "    return max(results)"
   ]
  },
  {
   "cell_type": "code",
   "execution_count": 185,
   "metadata": {},
   "outputs": [
    {
     "name": "stdout",
     "output_type": "stream",
     "text": [
      "4536\n"
     ]
    }
   ],
   "source": [
    "solution_b = solve_b(data)\n",
    "print(solution_b)"
   ]
  },
  {
   "cell_type": "code",
   "execution_count": 186,
   "metadata": {},
   "outputs": [],
   "source": [
    "puzzle.answer_b = solution_b"
   ]
  }
 ],
 "metadata": {
  "interpreter": {
   "hash": "dff300229a66d14808f681671adfaef0ab8c8a39abb01081ab67b0c5d3086a57"
  },
  "kernelspec": {
   "display_name": "Python 3.9.8 64-bit ('aoc-2021-ZBQgDlLz': pipenv)",
   "language": "python",
   "name": "python3"
  },
  "language_info": {
   "codemirror_mode": {
    "name": "ipython",
    "version": 3
   },
   "file_extension": ".py",
   "mimetype": "text/x-python",
   "name": "python",
   "nbconvert_exporter": "python",
   "pygments_lexer": "ipython3",
   "version": "3.9.8"
  },
  "orig_nbformat": 4
 },
 "nbformat": 4,
 "nbformat_minor": 2
}
