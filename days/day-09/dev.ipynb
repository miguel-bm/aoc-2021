{
 "cells": [
  {
   "cell_type": "markdown",
   "metadata": {},
   "source": [
    "# Advent of Code 2021 day 9"
   ]
  },
  {
   "cell_type": "code",
   "execution_count": 1,
   "metadata": {},
   "outputs": [],
   "source": [
    "from collections import *\n",
    "from itertools import *\n",
    "from functools import *\n",
    "\n",
    "from aocd.models import Puzzle\n",
    "import numpy as np\n",
    "import parse\n",
    "from aocp import *\n",
    "\n",
    "example: str = \"\"\"2199943210\n",
    "3987894921\n",
    "9856789892\n",
    "8767896789\n",
    "9899965678\"\"\"\n",
    "example_sol_a: int = 15\n",
    "example_sol_b: int = 1134\n",
    "\n",
    "\n",
    "puzzle = Puzzle(year=2021, day=9)\n",
    "raw_data = puzzle.input_data"
   ]
  },
  {
   "cell_type": "code",
   "execution_count": 2,
   "metadata": {},
   "outputs": [],
   "source": [
    "def parse_input(raw_data: str):\n",
    "    return np.array(ListParser(ListParser(int)).parse(raw_data))"
   ]
  },
  {
   "cell_type": "code",
   "execution_count": 3,
   "metadata": {},
   "outputs": [],
   "source": [
    "example_data = parse_input(example)\n",
    "data = parse_input(raw_data)"
   ]
  },
  {
   "cell_type": "code",
   "execution_count": 4,
   "metadata": {},
   "outputs": [
    {
     "data": {
      "text/plain": [
       "array([[2, 1, 9, 9, 9, 4, 3, 2, 1, 0],\n",
       "       [3, 9, 8, 7, 8, 9, 4, 9, 2, 1],\n",
       "       [9, 8, 5, 6, 7, 8, 9, 8, 9, 2],\n",
       "       [8, 7, 6, 7, 8, 9, 6, 7, 8, 9],\n",
       "       [9, 8, 9, 9, 9, 6, 5, 6, 7, 8]])"
      ]
     },
     "execution_count": 4,
     "metadata": {},
     "output_type": "execute_result"
    }
   ],
   "source": [
    "example_data"
   ]
  },
  {
   "cell_type": "markdown",
   "metadata": {},
   "source": [
    "## Part 1"
   ]
  },
  {
   "cell_type": "code",
   "execution_count": 5,
   "metadata": {},
   "outputs": [],
   "source": [
    "def get_diff_map(data: np.ndarray) -> np.ndarray:\n",
    "    up   = np.concatenate((np.ones((1, data.shape[1]), dtype=int)*10, data[:-1, :] - data[1:, :]), axis=0)\n",
    "    left = np.concatenate((np.ones((data.shape[0], 1), dtype=int)*10, data[:, :-1] - data[:, 1:]), axis=1)\n",
    "    down = np.concatenate((data[1:, :] - data[:-1, :], np.ones((1, data.shape[1]), dtype=int)*10), axis=0)\n",
    "    right = np.concatenate((data[:, 1:] - data[:, :-1], np.ones((data.shape[0], 1), dtype=int)*10), axis=1)\n",
    "    return np.array([up, right, down, left])"
   ]
  },
  {
   "cell_type": "code",
   "execution_count": 6,
   "metadata": {},
   "outputs": [
    {
     "data": {
      "text/plain": [
       "array([[[10, 10, 10, 10, 10, 10, 10, 10, 10, 10],\n",
       "        [-1, -8,  1,  2,  1, -5, -1, -7, -1, -1],\n",
       "        [-6,  1,  3,  1,  1,  1, -5,  1, -7, -1],\n",
       "        [ 1,  1, -1, -1, -1, -1,  3,  1,  1, -7],\n",
       "        [-1, -1, -3, -2, -1,  3,  1,  1,  1,  1]],\n",
       "\n",
       "       [[-1,  8,  0,  0, -5, -1, -1, -1, -1, 10],\n",
       "        [ 6, -1, -1,  1,  1, -5,  5, -7, -1, 10],\n",
       "        [-1, -3,  1,  1,  1,  1, -1,  1, -7, 10],\n",
       "        [-1, -1,  1,  1,  1, -3,  1,  1,  1, 10],\n",
       "        [-1,  1,  0,  0, -3, -1,  1,  1,  1, 10]],\n",
       "\n",
       "       [[ 1,  8, -1, -2, -1,  5,  1,  7,  1,  1],\n",
       "        [ 6, -1, -3, -1, -1, -1,  5, -1,  7,  1],\n",
       "        [-1, -1,  1,  1,  1,  1, -3, -1, -1,  7],\n",
       "        [ 1,  1,  3,  2,  1, -3, -1, -1, -1, -1],\n",
       "        [10, 10, 10, 10, 10, 10, 10, 10, 10, 10]],\n",
       "\n",
       "       [[10,  1, -8,  0,  0,  5,  1,  1,  1,  1],\n",
       "        [10, -6,  1,  1, -1, -1,  5, -5,  7,  1],\n",
       "        [10,  1,  3, -1, -1, -1, -1,  1, -1,  7],\n",
       "        [10,  1,  1, -1, -1, -1,  3, -1, -1, -1],\n",
       "        [10,  1, -1,  0,  0,  3,  1, -1, -1, -1]]])"
      ]
     },
     "execution_count": 6,
     "metadata": {},
     "output_type": "execute_result"
    }
   ],
   "source": [
    "get_diff_map(example_data)"
   ]
  },
  {
   "cell_type": "code",
   "execution_count": 7,
   "metadata": {},
   "outputs": [],
   "source": [
    "def solve_a(data) -> int:\n",
    "    diff_map = get_diff_map(data)\n",
    "    is_low_point = np.all(diff_map > 0, axis=0)\n",
    "    return np.sum(data[is_low_point]+1)"
   ]
  },
  {
   "cell_type": "code",
   "execution_count": 8,
   "metadata": {},
   "outputs": [
    {
     "name": "stdout",
     "output_type": "stream",
     "text": [
      "591\n"
     ]
    }
   ],
   "source": [
    "solution_a = solve_a(data)\n",
    "print(solution_a)"
   ]
  },
  {
   "cell_type": "code",
   "execution_count": 9,
   "metadata": {},
   "outputs": [
    {
     "name": "stdout",
     "output_type": "stream",
     "text": [
      "Part a already solved with same answer: 591\n"
     ]
    }
   ],
   "source": [
    "puzzle.answer_a = solution_a"
   ]
  },
  {
   "cell_type": "markdown",
   "metadata": {},
   "source": [
    "## Part 2"
   ]
  },
  {
   "cell_type": "code",
   "execution_count": 10,
   "metadata": {},
   "outputs": [],
   "source": [
    "def flows_towards(diff_map, pos):\n",
    "    dir = np.argmin(diff_map[:, pos[0], pos[1]])\n",
    "    if dir == 0:\n",
    "        return (pos[0]-1, pos[1])\n",
    "    elif dir == 1:\n",
    "        return (pos[0], pos[1]+1)\n",
    "    elif dir == 2:\n",
    "        return (pos[0]+1, pos[1])\n",
    "    elif dir == 3:\n",
    "        return (pos[0], pos[1]-1)"
   ]
  },
  {
   "cell_type": "code",
   "execution_count": 11,
   "metadata": {},
   "outputs": [],
   "source": [
    "diff_map = get_diff_map(example_data)\n",
    "is_low_point = np.all(diff_map > 0, axis=0)"
   ]
  },
  {
   "cell_type": "code",
   "execution_count": 12,
   "metadata": {},
   "outputs": [],
   "source": [
    "def get_flows_map(data: np.ndarray) -> np.ndarray:\n",
    "    diff_map = get_diff_map(data)\n",
    "    is_low_point = np.all(diff_map > 0, axis=0)\n",
    "    points = np.argwhere(data>=0).tolist()\n",
    "    lowpoints = np.argwhere(is_low_point).tolist()\n",
    "    highpoints = np.argwhere(data==9).tolist()\n",
    "    flowpoints = [point for point in points if point not in lowpoints and point not in highpoints]\n",
    "    flows_mapping = {tuple(pos): flows_towards(diff_map, tuple(pos)) for pos in flowpoints}\n",
    "    return flows_mapping"
   ]
  },
  {
   "cell_type": "code",
   "execution_count": 13,
   "metadata": {},
   "outputs": [],
   "source": [
    "def get_lowpoint_mapping(flows_mapping: dict) -> dict:\n",
    "    lowpoint_mapping = {}\n",
    "    for pos, flow in flows_mapping.items():\n",
    "        point = flow\n",
    "        while True:\n",
    "            if point not in flows_mapping:\n",
    "                lowpoint_mapping[pos] = point\n",
    "                break\n",
    "            point = flows_mapping[point]\n",
    "    return lowpoint_mapping"
   ]
  },
  {
   "cell_type": "code",
   "execution_count": 14,
   "metadata": {},
   "outputs": [],
   "source": [
    "def solve_b(data) -> int:\n",
    "    flows_mapping = get_flows_map(data)\n",
    "    lowpoint_mapping = get_lowpoint_mapping(flows_mapping)\n",
    "    _, counts = np.unique(np.array(list(lowpoint_mapping.values())), axis=0, return_counts=True)\n",
    "    sizes = counts + 1\n",
    "    return np.prod(sizes[sizes.argsort()[-3:]])"
   ]
  },
  {
   "cell_type": "code",
   "execution_count": 15,
   "metadata": {},
   "outputs": [
    {
     "data": {
      "text/plain": [
       "1134"
      ]
     },
     "execution_count": 15,
     "metadata": {},
     "output_type": "execute_result"
    }
   ],
   "source": [
    "solve_b(example_data)"
   ]
  },
  {
   "cell_type": "code",
   "execution_count": 16,
   "metadata": {},
   "outputs": [
    {
     "name": "stdout",
     "output_type": "stream",
     "text": [
      "1113424\n"
     ]
    }
   ],
   "source": [
    "solution_b = solve_b(data)\n",
    "print(solution_b)"
   ]
  },
  {
   "cell_type": "code",
   "execution_count": 17,
   "metadata": {},
   "outputs": [
    {
     "name": "stdout",
     "output_type": "stream",
     "text": [
      "Part b already solved with same answer: 1113424\n"
     ]
    }
   ],
   "source": [
    "puzzle.answer_b = solution_b"
   ]
  }
 ],
 "metadata": {
  "interpreter": {
   "hash": "dff300229a66d14808f681671adfaef0ab8c8a39abb01081ab67b0c5d3086a57"
  },
  "kernelspec": {
   "display_name": "Python 3.9.8 64-bit ('aoc-2021-ZBQgDlLz': pipenv)",
   "language": "python",
   "name": "python3"
  },
  "language_info": {
   "codemirror_mode": {
    "name": "ipython",
    "version": 3
   },
   "file_extension": ".py",
   "mimetype": "text/x-python",
   "name": "python",
   "nbconvert_exporter": "python",
   "pygments_lexer": "ipython3",
   "version": "3.9.8"
  },
  "orig_nbformat": 4
 },
 "nbformat": 4,
 "nbformat_minor": 2
}
